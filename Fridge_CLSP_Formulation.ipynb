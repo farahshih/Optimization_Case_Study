{
 "cells": [
  {
   "cell_type": "code",
   "execution_count": 1,
   "metadata": {
    "collapsed": true
   },
   "outputs": [],
   "source": [
    "from gurobipy import *"
   ]
  },
  {
   "cell_type": "code",
   "execution_count": 2,
   "metadata": {
    "collapsed": false
   },
   "outputs": [],
   "source": [
    "##### Preparing Data \n",
    "# Demand (8 products)\n",
    "# setting period = 24+1 (initial status t=0)\n",
    "Demands = [[0, 52, 53, 52, 53, 55, 55, 55, 55, 55, 55, 55, 55, 20, 20, 20, 20, 0, 0, 0, 0, 0, 0, 0, 0], \n",
    "           [0, 8, 9, 9, 9, 0, 0, 0, 0, 0, 0, 0, 0, 0, 0, 0, 0, 0, 0, 0, 0, 0, 0, 0, 0], \n",
    "           [0, 87, 88, 87, 88, 85, 85, 85, 85, 85, 85, 85, 85, 85, 85, 85, 85, 85, 85, 85, 85, 85, 85, 85, 85], \n",
    "           [0, 291, 291, 291, 292, 291, 291, 291, 292, 291, 291, 291, 292, 291, 291, 291, 292, 291, 291, 291, 292, 291, 291, 291, 292], \n",
    "           [0, 75, 75, 75, 75, 80, 80, 80, 80, 80, 80, 80, 80, 80, 80, 80, 80, 80, 80, 80, 80, 80, 80, 80, 80], \n",
    "           [0, 25, 25, 25, 25, 26, 26, 26, 27, 28, 29, 29, 29, 55, 55, 55, 55, 55, 55, 55, 55, 55, 55, 55, 55],\n",
    "           [0, 222, 223, 225, 225, 225, 225, 225, 225, 225, 225, 225, 225, 225, 225, 225, 225, 225, 225, 225, 225, 225, 225, 225, 225],\n",
    "           [0, 25, 25, 25, 25, 25, 25, 25, 25, 25, 25, 25, 25, 25, 25, 25, 25, 25, 25, 25, 25, 25, 25, 25, 25]]\n",
    "\n",
    "# initiazlize inventory level for t=0  (arbitruarly decided. about 1/4 of average demand)\n",
    "BegInv = [50, 10, 90, 200, 70, 25, 150, 25]\n",
    "\n",
    "SetupCost = 500 \n",
    "InvHoldCost = 1  \n",
    "holders = 13 \n",
    "\n",
    "molds = range(len(Demands))\n",
    "periods = range(len(Demands[0]))"
   ]
  },
  {
   "cell_type": "code",
   "execution_count": 3,
   "metadata": {
    "collapsed": false
   },
   "outputs": [],
   "source": [
    "##### Create Model\n",
    "m = Model(\"Scheduling\")"
   ]
  },
  {
   "cell_type": "code",
   "execution_count": 4,
   "metadata": {
    "collapsed": false
   },
   "outputs": [],
   "source": [
    "##### Add Decision Variables\n",
    "# number of molds of type i in conveyer during period t\n",
    "usage = []\n",
    "for i in molds:\n",
    "    usage.append([])\n",
    "    for t in periods:\n",
    "        usage[i].append(m.addVar(lb=0, vtype = GRB.INTEGER, name = \"Mold%d.%d\" % (i,t)))"
   ]
  },
  {
   "cell_type": "code",
   "execution_count": 5,
   "metadata": {
    "collapsed": false
   },
   "outputs": [],
   "source": [
    "# Linearnize absoulte value in obj. funcion - Yit(+), Yit(-)\n",
    "change = []\n",
    "for i in molds:\n",
    "    change.append([])\n",
    "    for t in periods:\n",
    "        change[i].append([])\n",
    "        for y in range(2):\n",
    "            change[i][t].append(m.addVar(lb=0, vtype = GRB.INTEGER, obj=(0.5*SetupCost), name = \"Change%d.%d.%d\" % (i,t,y)))"
   ]
  },
  {
   "cell_type": "code",
   "execution_count": 6,
   "metadata": {
    "collapsed": false
   },
   "outputs": [],
   "source": [
    "# Ending inventory level of products from mold type i at perid t \n",
    "EndInv = []\n",
    "for i in molds:\n",
    "    EndInv.append([])\n",
    "    for t in periods:\n",
    "        EndInv[i].append(m.addVar(lb=0, vtype = GRB.INTEGER, obj=InvHoldCost, name = \"Inv%d.%d\" % (i,t)))"
   ]
  },
  {
   "cell_type": "code",
   "execution_count": 7,
   "metadata": {
    "collapsed": true
   },
   "outputs": [],
   "source": [
    "# The objective is to minimize the total setup cost and inventory holding cost\n",
    "m.modelSense = GRB.MINIMIZE"
   ]
  },
  {
   "cell_type": "code",
   "execution_count": 8,
   "metadata": {
    "collapsed": true
   },
   "outputs": [],
   "source": [
    "# Update model to integrate new variables\n",
    "m.update()"
   ]
  },
  {
   "cell_type": "code",
   "execution_count": 9,
   "metadata": {
    "collapsed": true
   },
   "outputs": [],
   "source": [
    "# initiazlize inventory level for t=0\n",
    "for i in molds:\n",
    "    EndInv[i][0] = BegInv[i]\n",
    "    \n",
    "# initializ Yit(+), Yit(-) when t=0 \n",
    "for i in molds:\n",
    "    for y in range(2):\n",
    "        change[i][0][y]=0"
   ]
  },
  {
   "cell_type": "code",
   "execution_count": 10,
   "metadata": {
    "collapsed": false
   },
   "outputs": [],
   "source": [
    "##### Define Constraints\n",
    "# number of holders\n",
    "for t in periods[1:]:\n",
    "    m.addConstr(quicksum(usage[i][t] for i in molds) == holders)"
   ]
  },
  {
   "cell_type": "code",
   "execution_count": 11,
   "metadata": {
    "collapsed": false
   },
   "outputs": [],
   "source": [
    "# inventory level and demand equation \n",
    "for i in molds:\n",
    "    for t in periods[1:]:\n",
    "        m.addConstr((EndInv[i][t-1] + 60*usage[i][t] - Demands[i][t]) == EndInv[i][t])"
   ]
  },
  {
   "cell_type": "code",
   "execution_count": 12,
   "metadata": {
    "collapsed": false
   },
   "outputs": [],
   "source": [
    "# usage & linearnized variables (Y) constraint\n",
    "for i in molds:\n",
    "    for t in periods[1:]:\n",
    "        m.addConstr(usage[i][t]-usage[i][t-1] == (change[i][t][0] - change[i][t][1]))"
   ]
  },
  {
   "cell_type": "code",
   "execution_count": 13,
   "metadata": {
    "collapsed": false
   },
   "outputs": [],
   "source": [
    "# maximum number of molds of each type i available (upper bound for number of molds)\n",
    "mold_constraint = {0:12, 1:5, 2:8, 3:15, 4:4, 5:7, 6:14, 7:3}\n",
    "for t in periods[1:]:\n",
    "    for mold, vals in mold_constraint.items():\n",
    "        expr = LinExpr(usage[mold][t]) \n",
    "        m.addConstr(expr, GRB.LESS_EQUAL, vals) "
   ]
  },
  {
   "cell_type": "code",
   "execution_count": 14,
   "metadata": {
    "collapsed": false
   },
   "outputs": [
    {
     "name": "stdout",
     "output_type": "stream",
     "text": [
      "Optimize a model with 600 rows, 800 columns and 1720 nonzeros\n",
      "Coefficient statistics:\n",
      "  Matrix range    [1e+00, 6e+01]\n",
      "  Objective range [1e+00, 2e+02]\n",
      "  Bounds range    [0e+00, 0e+00]\n",
      "  RHS range       [2e+00, 3e+02]\n",
      "Presolve removed 262 rows and 302 columns\n",
      "Presolve time: 0.00s\n",
      "Presolved: 338 rows, 498 columns, 1149 nonzeros\n",
      "Variable types: 0 continuous, 498 integer (0 binary)\n",
      "\n",
      "Root relaxation: objective 1.411691e+04, 397 iterations, 0.01 seconds\n",
      "\n",
      "    Nodes    |    Current Node    |     Objective Bounds      |     Work\n",
      " Expl Unexpl |  Obj  Depth IntInf | Incumbent    BestBd   Gap | It/Node Time\n",
      "\n",
      "     0     0 14116.9091    0  256          - 14116.9091      -     -    0s\n",
      "     0     0 15495.8745    0  249          - 15495.8745      -     -    0s\n",
      "     0     0 15554.3108    0  256          - 15554.3108      -     -    0s\n",
      "     0     0 16385.2312    0  232          - 16385.2312      -     -    0s\n",
      "     0     0 16394.3423    0  231          - 16394.3423      -     -    0s\n",
      "     0     0 16436.6586    0  272          - 16436.6586      -     -    0s\n",
      "     0     0 16446.3735    0  265          - 16446.3735      -     -    0s\n",
      "     0     0 16451.1096    0  266          - 16451.1096      -     -    0s\n",
      "     0     0 16462.7314    0  253          - 16462.7314      -     -    0s\n",
      "     0     0 16572.5353    0  241          - 16572.5353      -     -    0s\n",
      "H    0     0                    34101.000000 16572.5353  51.4%     -    0s\n",
      "H    0     0                    30101.000000 16572.5353  44.9%     -    0s\n",
      "     0     0 16607.4336    0  277 30101.0000 16607.4336  44.8%     -    0s\n",
      "     0     0 16618.3951    0  249 30101.0000 16618.3951  44.8%     -    0s\n",
      "H    0     0                    28601.000000 16618.3951  41.9%     -    0s\n",
      "     0     0 16618.3951    0  251 28601.0000 16618.3951  41.9%     -    0s\n",
      "     0     0 16618.5057    0  252 28601.0000 16618.5057  41.9%     -    0s\n",
      "     0     0 16618.5057    0  250 28601.0000 16618.5057  41.9%     -    0s\n",
      "     0     2 16618.5057    0  250 28601.0000 16618.5057  41.9%     -    0s\n",
      "H   75    63                    27101.000000 16636.4042  38.6%  23.8    0s\n",
      "*  168   139              75    25601.000000 16639.7255  35.0%  18.7    0s\n",
      "H  227   191                    25101.000000 16750.0955  33.3%  16.4    0s\n",
      "H  379   313                    24101.000000 16750.0955  30.5%  17.4    0s\n",
      "H  458   330                    23601.000000 16793.8390  28.8%  18.6    0s\n",
      "H  606   442                    23101.000000 16809.8112  27.2%  18.3    0s\n",
      "H  785   540                    22601.000000 19755.3024  12.6%  19.7    4s\n",
      "H  785   512                    22101.000000 19755.3024  10.6%  19.7    4s\n",
      "H  828   512                    20101.000000 19892.9230  1.04%  24.8    4s\n",
      "   960   438 19971.1528   24  265 20101.0000 19954.5775  0.73%  26.4    5s\n",
      "\n",
      "Cutting planes:\n",
      "  Gomory: 25\n",
      "  MIR: 32\n",
      "  Zero half: 79\n",
      "\n",
      "Explored 1028 nodes (28140 simplex iterations) in 5.07 seconds\n",
      "Thread count was 4 (of 4 available processors)\n",
      "\n",
      "Optimal solution found (tolerance 1.00e-04)\n",
      "Best objective 2.010100000000e+04, best bound 2.010100000000e+04, gap 0.0%\n"
     ]
    }
   ],
   "source": [
    "##### solve \n",
    "m.optimize()"
   ]
  },
  {
   "cell_type": "code",
   "execution_count": 15,
   "metadata": {
    "collapsed": false
   },
   "outputs": [],
   "source": [
    "# vars = m.getVars()\n",
    "# vars\n",
    "# m.getObjective()\n",
    "# for v in m.getVars():\n",
    "#     print(v.x)"
   ]
  },
  {
   "cell_type": "code",
   "execution_count": 16,
   "metadata": {
    "collapsed": false
   },
   "outputs": [
    {
     "name": "stdout",
     "output_type": "stream",
     "text": [
      "Setup cost per mold: 500\n",
      "Inventory Holding cost per item: 1\n",
      "Total Costs is: 20101\n",
      "Before these periods a mold change is required:\n",
      "[2, 4, 4, 5, 8, 9, 11, 11, 13, 13, 14, 18, 21]\n",
      "Mold 0 - ending inventory after the last period: 40\n",
      "Mold 1 - ending inventory after the last period: 35\n",
      "Mold 2 - ending inventory after the last period: 20\n",
      "Mold 3 - ending inventory after the last period: 110\n",
      "Mold 4 - ending inventory after the last period: 30\n",
      "Mold 5 - ending inventory after the last period: 65\n",
      "Mold 6 - ending inventory after the last period: 215\n",
      "Mold 7 - ending inventory after the last period: 145\n"
     ]
    }
   ],
   "source": [
    "##### Print solutions\n",
    "#\n",
    "print \"Setup cost per mold: %g\" % SetupCost\n",
    "print \"Inventory Holding cost per item: %g\" % InvHoldCost\n",
    "\n",
    "# Total Cost\n",
    "print \"Total Costs is: %g\" % m.objVal\n",
    "\n",
    "# Setup\n",
    "result_change = []\n",
    "for i in molds:\n",
    "    for t in periods[1:]:\n",
    "        # one mold out Y(+) and another mold in Y(-), but only one mold change occurs. Thus, loop Y only in range(1) \n",
    "        for y in range(1):\n",
    "            if change[i][t][y].x >= 1.0:\n",
    "                result_change.append(t)\n",
    "print \"Before these periods a mold change is required:\"\n",
    "print sorted(result_change)\n",
    "                \n",
    "# Ending Inventory\n",
    "for i in molds:\n",
    "    End = EndInv[i][-1].x\n",
    "    print \"Mold %g - ending inventory after the last period: %g\" %(i,End)"
   ]
  }
 ],
 "metadata": {
  "kernelspec": {
   "display_name": "Python 2",
   "language": "python",
   "name": "python2"
  },
  "language_info": {
   "codemirror_mode": {
    "name": "ipython",
    "version": 2
   },
   "file_extension": ".py",
   "mimetype": "text/x-python",
   "name": "python",
   "nbconvert_exporter": "python",
   "pygments_lexer": "ipython2",
   "version": "2.7.11"
  }
 },
 "nbformat": 4,
 "nbformat_minor": 0
}
